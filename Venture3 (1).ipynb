{
 "cells": [
  {
   "cell_type": "code",
   "execution_count": 1,
   "id": "4f122a45-9a27-4580-aad2-2acf595817d0",
   "metadata": {},
   "outputs": [
    {
     "name": "stdout",
     "output_type": "stream",
     "text": [
      "Defaulting to user installation because normal site-packages is not writeable\n",
      "Requirement already satisfied: pandas in c:\\program files\\python312\\lib\\site-packages (2.1.2)\n",
      "Requirement already satisfied: numpy<2,>=1.26.0 in c:\\program files\\python312\\lib\\site-packages (from pandas) (1.26.1)\n",
      "Requirement already satisfied: python-dateutil>=2.8.2 in c:\\program files\\python312\\lib\\site-packages (from pandas) (2.8.2)\n",
      "Requirement already satisfied: pytz>=2020.1 in c:\\program files\\python312\\lib\\site-packages (from pandas) (2023.3.post1)\n",
      "Requirement already satisfied: tzdata>=2022.1 in c:\\program files\\python312\\lib\\site-packages (from pandas) (2023.3)\n",
      "Requirement already satisfied: six>=1.5 in c:\\program files\\python312\\lib\\site-packages (from python-dateutil>=2.8.2->pandas) (1.16.0)\n"
     ]
    }
   ],
   "source": [
    "!pip install pandas"
   ]
  },
  {
   "cell_type": "code",
   "execution_count": 166,
   "id": "44b1b1aa-a484-4bff-875c-8927612675b3",
   "metadata": {},
   "outputs": [],
   "source": [
    "import pandas as pd"
   ]
  },
  {
   "cell_type": "markdown",
   "id": "633a22ef-0ca7-435f-9e9e-de7dbb0a3219",
   "metadata": {},
   "source": [
    "Пункт 4"
   ]
  },
  {
   "cell_type": "markdown",
   "id": "1e496235-003a-498c-ad82-6c3c10d9f3e2",
   "metadata": {},
   "source": [
    "Дадим определение \"типичного\" участника:\n",
    "Типичный участник - это человек, который обладает характеристиками, общими для большинства участников"
   ]
  },
  {
   "cell_type": "code",
   "execution_count": 146,
   "id": "c020944b-c807-4c28-9f28-2b09a3eb3ee2",
   "metadata": {},
   "outputs": [
    {
     "data": {
      "text/html": [
       "<div>\n",
       "<style scoped>\n",
       "    .dataframe tbody tr th:only-of-type {\n",
       "        vertical-align: middle;\n",
       "    }\n",
       "\n",
       "    .dataframe tbody tr th {\n",
       "        vertical-align: top;\n",
       "    }\n",
       "\n",
       "    .dataframe thead th {\n",
       "        text-align: right;\n",
       "    }\n",
       "</style>\n",
       "<table border=\"1\" class=\"dataframe\">\n",
       "  <thead>\n",
       "    <tr style=\"text-align: right;\">\n",
       "      <th></th>\n",
       "      <th>Соревнование</th>\n",
       "      <th>Год проведения</th>\n",
       "      <th>ID участника</th>\n",
       "      <th>Место команды участника</th>\n",
       "      <th>Пол</th>\n",
       "      <th>Год рождения</th>\n",
       "      <th>Город проживания</th>\n",
       "    </tr>\n",
       "  </thead>\n",
       "  <tbody>\n",
       "    <tr>\n",
       "      <th>0</th>\n",
       "      <td>2014 весна</td>\n",
       "      <td>2014</td>\n",
       "      <td>1</td>\n",
       "      <td>602</td>\n",
       "      <td>М</td>\n",
       "      <td>1983</td>\n",
       "      <td>Москва</td>\n",
       "    </tr>\n",
       "    <tr>\n",
       "      <th>1</th>\n",
       "      <td>2014 весна</td>\n",
       "      <td>2014</td>\n",
       "      <td>2</td>\n",
       "      <td>17</td>\n",
       "      <td>М</td>\n",
       "      <td>1987</td>\n",
       "      <td>Москва</td>\n",
       "    </tr>\n",
       "    <tr>\n",
       "      <th>2</th>\n",
       "      <td>2014 весна</td>\n",
       "      <td>2014</td>\n",
       "      <td>3</td>\n",
       "      <td>122</td>\n",
       "      <td>М</td>\n",
       "      <td>1964</td>\n",
       "      <td>Новосибирск</td>\n",
       "    </tr>\n",
       "    <tr>\n",
       "      <th>3</th>\n",
       "      <td>2014 весна</td>\n",
       "      <td>2014</td>\n",
       "      <td>4</td>\n",
       "      <td>602</td>\n",
       "      <td>М</td>\n",
       "      <td>1982</td>\n",
       "      <td>Москва</td>\n",
       "    </tr>\n",
       "    <tr>\n",
       "      <th>4</th>\n",
       "      <td>2014 весна</td>\n",
       "      <td>2014</td>\n",
       "      <td>5</td>\n",
       "      <td>344</td>\n",
       "      <td>М</td>\n",
       "      <td>1983</td>\n",
       "      <td>Cанкт-Петербург</td>\n",
       "    </tr>\n",
       "    <tr>\n",
       "      <th>...</th>\n",
       "      <td>...</td>\n",
       "      <td>...</td>\n",
       "      <td>...</td>\n",
       "      <td>...</td>\n",
       "      <td>...</td>\n",
       "      <td>...</td>\n",
       "      <td>...</td>\n",
       "    </tr>\n",
       "    <tr>\n",
       "      <th>16500</th>\n",
       "      <td>2018 осень</td>\n",
       "      <td>2018</td>\n",
       "      <td>16501</td>\n",
       "      <td>35</td>\n",
       "      <td>М</td>\n",
       "      <td>1980</td>\n",
       "      <td>Москва</td>\n",
       "    </tr>\n",
       "    <tr>\n",
       "      <th>16501</th>\n",
       "      <td>2018 осень</td>\n",
       "      <td>2018</td>\n",
       "      <td>16502</td>\n",
       "      <td>165</td>\n",
       "      <td>М</td>\n",
       "      <td>1981</td>\n",
       "      <td>Москва</td>\n",
       "    </tr>\n",
       "    <tr>\n",
       "      <th>16502</th>\n",
       "      <td>2018 осень</td>\n",
       "      <td>2018</td>\n",
       "      <td>16503</td>\n",
       "      <td>165</td>\n",
       "      <td>Ж</td>\n",
       "      <td>1983</td>\n",
       "      <td>Москва</td>\n",
       "    </tr>\n",
       "    <tr>\n",
       "      <th>16503</th>\n",
       "      <td>2018 осень</td>\n",
       "      <td>2018</td>\n",
       "      <td>16504</td>\n",
       "      <td>590</td>\n",
       "      <td>Ж</td>\n",
       "      <td>1978</td>\n",
       "      <td>Смоленск</td>\n",
       "    </tr>\n",
       "    <tr>\n",
       "      <th>16504</th>\n",
       "      <td>2018 осень</td>\n",
       "      <td>2018</td>\n",
       "      <td>16505</td>\n",
       "      <td>590</td>\n",
       "      <td>Ж</td>\n",
       "      <td>1980</td>\n",
       "      <td>Смоленск</td>\n",
       "    </tr>\n",
       "  </tbody>\n",
       "</table>\n",
       "<p>16505 rows × 7 columns</p>\n",
       "</div>"
      ],
      "text/plain": [
       "      Соревнование  Год проведения  ID участника  Место команды участника Пол  \\\n",
       "0       2014 весна            2014             1                      602   М   \n",
       "1       2014 весна            2014             2                       17   М   \n",
       "2       2014 весна            2014             3                      122   М   \n",
       "3       2014 весна            2014             4                      602   М   \n",
       "4       2014 весна            2014             5                      344   М   \n",
       "...            ...             ...           ...                      ...  ..   \n",
       "16500   2018 осень            2018         16501                       35   М   \n",
       "16501   2018 осень            2018         16502                      165   М   \n",
       "16502   2018 осень            2018         16503                      165   Ж   \n",
       "16503   2018 осень            2018         16504                      590   Ж   \n",
       "16504   2018 осень            2018         16505                      590   Ж   \n",
       "\n",
       "       Год рождения Город проживания  \n",
       "0              1983           Москва  \n",
       "1              1987           Москва  \n",
       "2              1964      Новосибирск  \n",
       "3              1982           Москва  \n",
       "4              1983  Cанкт-Петербург  \n",
       "...             ...              ...  \n",
       "16500          1980           Москва  \n",
       "16501          1981           Москва  \n",
       "16502          1983           Москва  \n",
       "16503          1978         Смоленск  \n",
       "16504          1980         Смоленск  \n",
       "\n",
       "[16505 rows x 7 columns]"
      ]
     },
     "execution_count": 146,
     "metadata": {},
     "output_type": "execute_result"
    }
   ],
   "source": [
    "df = pd.read_csv('data.csv', delimiter=',')\n",
    "df"
   ]
  },
  {
   "cell_type": "code",
   "execution_count": 130,
   "id": "fde4cee6-e138-47b1-b0a6-f03279f98d20",
   "metadata": {},
   "outputs": [
    {
     "name": "stdout",
     "output_type": "stream",
     "text": [
      "<class 'pandas.core.frame.DataFrame'>\n",
      "RangeIndex: 16505 entries, 0 to 16504\n",
      "Data columns (total 7 columns):\n",
      " #   Column                   Non-Null Count  Dtype \n",
      "---  ------                   --------------  ----- \n",
      " 0   Соревнование             16505 non-null  object\n",
      " 1   Год проведения           16505 non-null  int64 \n",
      " 2   ID участника             16505 non-null  int64 \n",
      " 3   Место команды участника  16505 non-null  int64 \n",
      " 4   Пол                      16505 non-null  object\n",
      " 5   Год рождения             16505 non-null  int64 \n",
      " 6   Город проживания         16505 non-null  object\n",
      "dtypes: int64(4), object(3)\n",
      "memory usage: 902.7+ KB\n"
     ]
    }
   ],
   "source": [
    "df.info()"
   ]
  },
  {
   "cell_type": "code",
   "execution_count": 5,
   "id": "37f3154c-2df7-4872-867e-d2f7aaec5388",
   "metadata": {},
   "outputs": [
    {
     "data": {
      "text/plain": [
       "True"
      ]
     },
     "execution_count": 5,
     "metadata": {},
     "output_type": "execute_result"
    }
   ],
   "source": [
    "len(df[df.notnull()]) == len(df)"
   ]
  },
  {
   "cell_type": "markdown",
   "id": "451ce789-7e51-4d66-8cb7-d51616a586d1",
   "metadata": {},
   "source": [
    "Пустых ячеек у нас нет"
   ]
  },
  {
   "cell_type": "code",
   "execution_count": 6,
   "id": "5f44b598-4612-48c5-a40b-be28e214097d",
   "metadata": {},
   "outputs": [
    {
     "data": {
      "text/plain": [
       "Год рождения\n",
       "1988    1154\n",
       "1986    1024\n",
       "1990    1022\n",
       "1987    1010\n",
       "1984     948\n",
       "        ... \n",
       "1944       1\n",
       "1930       1\n",
       "2014       1\n",
       "1932       1\n",
       "2010       1\n",
       "Name: count, Length: 75, dtype: int64"
      ]
     },
     "execution_count": 6,
     "metadata": {},
     "output_type": "execute_result"
    }
   ],
   "source": [
    "year_cnt = df['Год рождения'].value_counts()\n",
    "year_cnt"
   ]
  },
  {
   "cell_type": "code",
   "execution_count": 7,
   "id": "34d5d4db-0d7b-4fd6-b91b-f7f71b8c98a6",
   "metadata": {},
   "outputs": [
    {
     "data": {
      "text/plain": [
       "array([1983, 1987, 1964, 1982, 1992, 1988, 1991, 1989, 1990, 1985, 1986,\n",
       "       1976, 1994, 1978, 1979, 1984, 1995, 1993, 1996, 1960, 1974, 2011,\n",
       "       1977, 1968, 1981, 1969, 1951, 1963, 1952, 1972, 1965, 1966, 1970,\n",
       "       1975, 1961, 1973, 2003, 1971, 1950, 1980, 1967, 1945, 2000, 1956,\n",
       "       1962, 1997, 1953, 1955, 1954, 1998, 1946, 2005, 1957, 2013, 1999,\n",
       "       2004, 2006, 2007, 2008, 2009, 2016, 1958, 2014, 2001, 1941, 1944,\n",
       "       2012, 1948, 1959, 1930, 2002, 2015, 1932, 2017, 2010], dtype=int64)"
      ]
     },
     "execution_count": 7,
     "metadata": {},
     "output_type": "execute_result"
    }
   ],
   "source": [
    "year_unq = df['Год рождения'].unique()\n",
    "year_unq"
   ]
  },
  {
   "cell_type": "code",
   "execution_count": 9,
   "id": "be59809b-e743-4a91-894a-ec8eff622cc8",
   "metadata": {
    "scrolled": true
   },
   "outputs": [
    {
     "data": {
      "text/plain": [
       "[875,\n",
       " 1010,\n",
       " 59,\n",
       " 672,\n",
       " 676,\n",
       " 1154,\n",
       " 773,\n",
       " 938,\n",
       " 1022,\n",
       " 823,\n",
       " 1024,\n",
       " 238,\n",
       " 483,\n",
       " 373,\n",
       " 352,\n",
       " 948,\n",
       " 359,\n",
       " 488,\n",
       " 328,\n",
       " 51,\n",
       " 228,\n",
       " 5,\n",
       " 262,\n",
       " 157,\n",
       " 527,\n",
       " 109,\n",
       " 16,\n",
       " 44,\n",
       " 28,\n",
       " 182,\n",
       " 93,\n",
       " 71,\n",
       " 99,\n",
       " 196,\n",
       " 59,\n",
       " 150,\n",
       " 35,\n",
       " 146,\n",
       " 12,\n",
       " 501,\n",
       " 50,\n",
       " 7,\n",
       " 74,\n",
       " 10,\n",
       " 29,\n",
       " 266,\n",
       " 23,\n",
       " 12,\n",
       " 18,\n",
       " 160,\n",
       " 13,\n",
       " 15,\n",
       " 23,\n",
       " 2,\n",
       " 111,\n",
       " 9,\n",
       " 7,\n",
       " 5,\n",
       " 4,\n",
       " 3,\n",
       " 2,\n",
       " 14,\n",
       " 1,\n",
       " 21,\n",
       " 2,\n",
       " 1,\n",
       " 1,\n",
       " 2,\n",
       " 11,\n",
       " 1,\n",
       " 31,\n",
       " 7,\n",
       " 1,\n",
       " 2,\n",
       " 1]"
      ]
     },
     "execution_count": 9,
     "metadata": {},
     "output_type": "execute_result"
    }
   ],
   "source": [
    "year_cnt_unq = []\n",
    "for x in year_unq:\n",
    "    year_cnt_unq.append(year_cnt[x])\n",
    "year_cnt_unq"
   ]
  },
  {
   "cell_type": "code",
   "execution_count": 10,
   "id": "c738ab19-ced1-4ea6-af36-08f12636c4d8",
   "metadata": {},
   "outputs": [],
   "source": [
    "import matplotlib as mpl\n",
    "import matplotlib.pyplot as plt"
   ]
  },
  {
   "cell_type": "code",
   "execution_count": 30,
   "id": "580351a9-f750-43c4-b018-b3d7aa924479",
   "metadata": {},
   "outputs": [
    {
     "data": {
      "image/png": "[encoded data removed]",
      "text/plain": [
       "<Figure size 640x480 with 1 Axes>"
      ]
     },
     "metadata": {},
     "output_type": "display_data"
    }
   ],
   "source": [
    "x = year_unq\n",
    "y = year_cnt_unq\n",
    "\n",
    "plt.bar(x, y) \n",
    "plt.xlabel('Год рождения')\n",
    "plt.ylabel('Количество людей')\n",
    "plt.title('Количество людей различных годов рождения')\n",
    "plt.show()"
   ]
  },
  {
   "cell_type": "markdown",
   "id": "53986c81-57a5-4efb-85fc-be282b8714d6",
   "metadata": {},
   "source": [
    "Как мы видим, график симметричен и с совсем небольшим количеством выбросов. В связи с этим для определения года рождения \"типичного\" участника будем использовать моду, так как это и будет наиболее встречаемый год рождения участников."
   ]
  },
  {
   "cell_type": "code",
   "execution_count": 17,
   "id": "5c569e79-50ef-4cc2-a989-7d470c753dd1",
   "metadata": {},
   "outputs": [
    {
     "data": {
      "text/plain": [
       "Год рождения\n",
       "1988    1154\n",
       "1986    1024\n",
       "1990    1022\n",
       "1987    1010\n",
       "1984     948\n",
       "        ... \n",
       "1944       1\n",
       "1930       1\n",
       "2014       1\n",
       "1932       1\n",
       "2010       1\n",
       "Name: count, Length: 75, dtype: int64"
      ]
     },
     "execution_count": 17,
     "metadata": {},
     "output_type": "execute_result"
    }
   ],
   "source": [
    "df['Год рождения'].value_counts()"
   ]
  },
  {
   "cell_type": "markdown",
   "id": "ce0b28dd-7220-4d1b-b5aa-003aeac1e199",
   "metadata": {},
   "source": [
    "Год рождения \"типичного\" участника - 1988"
   ]
  },
  {
   "cell_type": "markdown",
   "id": "b5b9fbf7-1db3-4023-888b-343c6b082978",
   "metadata": {},
   "source": [
    "Теперь определим город"
   ]
  },
  {
   "cell_type": "code",
   "execution_count": 19,
   "id": "571ba578-aa9e-4975-837d-6eba14e7ca08",
   "metadata": {
    "scrolled": true
   },
   "outputs": [
    {
     "data": {
      "text/plain": [
       "array(['Москва', 'Новосибирск', 'Cанкт-Петербург', 'Долгопрудный',\n",
       "       'Екатеринбург', 'Санкт-Петербург', 'Электросталь',\n",
       "       'Петропавловск-Камчатский', 'Шевлягино', 'Тольятти', 'Вильнюс',\n",
       "       'москва', 'Moscow', 'Раменское', 'Коломна', 'г. Тверь', 'Таллин',\n",
       "       'Троицк', 'Клявлино', 'Тверь', 'Лабытнанги', 'Обнинск',\n",
       "       'Лыткарино', 'Черноголовка', 'Сталинград', 'Рязань', 'Пушкино',\n",
       "       'Подольск', 'Зюзино', 'село Шеметово (Сергиев Посад)',\n",
       "       'г.Владимир', 'Железнодорожный', 'Ульяновская область', 'Люберцы',\n",
       "       'Пущино', 'Озеры', 'Молоково-Нальчик', 'Стерлитамак', 'Зеленоград',\n",
       "       'Химки', 'Салехард', 'Волгоград/Москва', 'Балашиха', 'Электроугли',\n",
       "       'П-Посад', 'Жел-дор', 'Калуга', 'Фрязино', 'Дубна', 'Липа',\n",
       "       'Измайлово', 'Ясногорск', 'Город', 'Анапа', 'Дзержинск', 'Королёв',\n",
       "       'город-герой Москва', 'мск', 'Красное', 'балашиха', 'Красногорск',\n",
       "       'Сходня', 'Майкоп', 'Омск', 'село Сафарино', 'Звенигород',\n",
       "       'Мытищи', 'Цахкадзор', 'Переделкино', 'Дмитров, М.О.',\n",
       "       'Наро-Фоминск', 'Лобня', 'пос. Ильинский', 'Реутов', 'озёры',\n",
       "       'Ногинск', 'Вологда', 'МОСКВА', 'Жуковский', 'Волгоград/Протвино',\n",
       "       'Мск', 'Луховицы', 'Смоленск', 'Самарта', 'Королев', 'Московия',\n",
       "       'Петрозаводск', 'Мурманск', 'Железнодорожный МО', 'Краснознаменск',\n",
       "       'Вологодская обл. г. Череповец', 'Волоколамск', 'Тула', 'Белгород',\n",
       "       'Нововоронеж', 'Дмитров', 'п. Зеленоградский (Пушкино)',\n",
       "       'Андреевка', 'Видное', 'Нахабино', 'Уфа-Москва', 'Клин',\n",
       "       'Ярославль', 'Валдай', 'Саратов', 'г. Москва', 'Ивантеевка',\n",
       "       'Гагарин', 'Одинцово', 'Гавана', 'Москва-Подольск', 'Шебекино',\n",
       "       'Киев', 'Пересвет', 'Торжок', 'г. Люберцы', 'Дублин',\n",
       "       'Ленинград-Обнинск-Москва', 'Воронеж', 'москва ', 'Домодедово',\n",
       "       'Кратово', 'Протвино/Обнинск', 'Сергиев Посад', 'Краснодар',\n",
       "       'зеленоград', 'Moskva', 'Псков', 'Берлин', 'Митино',\n",
       "       'Кишинёв -> Москва -> Тянь-Шань', 'Щёлково', 'Ржев', 'Москва ',\n",
       "       'Климовск', 'Элиста', 'Снежинск', 'Кубинка', 'Москва / Белгород',\n",
       "       'Менделеево', 'Серпухов', 'Котовск', 'Липецк', 'Наро-фоминск',\n",
       "       'Солнечногорск', 'Саров', 'Ливны', 'Старая Купавна',\n",
       "       'Московская область', 'Град Зеленый', 'Истра', 'Москва/Петербург',\n",
       "       'Дубна МО', 'Раменское ', 'Нижний Новгород',\n",
       "       'Королев Московская обл', 'Волгоград', '-', 'Димитровград', 'Чита',\n",
       "       'Жуковский Московской обл.', 'Зарайск', 'Уфа',\n",
       "       'Москва-Владивосток', 'Невьянск', 'Петербург', 'Washington, D.C.',\n",
       "       'Москва, Зеленоград', 'Протвино', 'Чехов', 'Кулебаки',\n",
       "       'Москва и Солнечногорск', 'Ulyanovsk', 'Ульяновск', 'Шушмор',\n",
       "       'Манаус', 'Бийск/Москва', 'Кузяево, МО', 'г. Зеленоград',\n",
       "       'Уфа/Москва', 'Королев-Кулебаки', 'Вестра', 'Баку', 'Ахтубинск',\n",
       "       'Александров ', 'Пыть-Ях', 'Город-герой Москва', 'троицк',\n",
       "       'Пущино, Московская область', 'Купавна', 'Кривой РогГород',\n",
       "       'Водники (Долгопрудный)', 'Ефремов', 'Апрелевка', 'Северодвинск',\n",
       "       'Tula', 'Шатура ', 'Москвв', 'Шатура', 'Трудовая, МО', 'moscow',\n",
       "       'Первомайский', 'Софрино', 'королёв', 'Орехово-Зуево', 'с. Ершово',\n",
       "       'Душанбе', 'Кашира', 'Подушкино', 'Щелково',\n",
       "       'пос. Нахабино, Московская обл.', 'Красноармейск',\n",
       "       'Зеленоград, Москва', 'Павловский Посад', 'Воскресенск',\n",
       "       'Город на берегу реки', 'Томск', 'Удомля', 'Учалы', 'Ижевск',\n",
       "       'королев', 'Казань', 'Медвежьи Озёра', 'Msc', 'Можайск',\n",
       "       'климовск', 'Малаховка', 'Mосква', 'Александров', 'Тамбов',\n",
       "       'Могадишо', 'Йошкар-Ола', 'Ташкент', 'Маёвник', 'Нахабино ',\n",
       "       'Куса,СтарыйОскол,Москва', 'пересвет', 'Пущино, МО', 'Детчино',\n",
       "       'Рыбинск', 'МО', 'Dolgoprudny', 'Brentford', 'Челябинск', 'химки',\n",
       "       'Владимир', 'Медвёдовск', 'Лобня Московской области',\n",
       "       'город Королев', 'Якутск', 'Ростов', 'Ульяновск, Москва', 'Мосвка',\n",
       "       'Харцызск', 'Оренбург', 'Калининград', 'Монино', 'Пермь',\n",
       "       'Догопрудный', 'Ступино', 'Дзержинский', 'Коренево',\n",
       "       'Пос. Власиха', 'Анжеро-Судженск', 'Zürich', 'пгт. Белоозёрский',\n",
       "       'Птичье', 'Череповец', 'Череповец Вологодская обл.', 'Щербинка',\n",
       "       'Иваново', 'msk', 'Киров', 'Москвп', 'г. Владимир', 'с. Пышлицы',\n",
       "       'Краснозаводск', 'Ковров', 'Орел', 'Московская Область',\n",
       "       'г.Королев', 'МОсква', 'Рига', 'Электростаоь', 'ТОЛЬЯТТИ',\n",
       "       'Архангельск', 'Караганда', 'Владивосток', 'Нерехта',\n",
       "       'Москва г. Троицк', 'Балашов', 'Усово -Тупик', 'МОСВКА',\n",
       "       'Переслаль-Залесский', 'Череповец ', 'г.Рязань', 'Copenhagen',\n",
       "       'Городок', 'Орехово-Зеуво', 'Солнечногорск ', 'калуга',\n",
       "       'Жуковский ', 'Бронницы', 'Миасс', 'Лыткарино, МО', 'челябинск',\n",
       "       'Дзержинск Нижегородской обл.', 'Дзержинск  нижегородская область',\n",
       "       'дзержинск', 'Тирасполь', 'Новокузнецк', 'Нерчинский Завод',\n",
       "       'Златоуст', 'СПб', 'Красково', 'Молоково', 'Изенгард',\n",
       "       'орехово-зуево', 'Ставрополь', 'Брянск', 'волгоград',\n",
       "       'Владивосток ', 'Ростов-на-Дону', 'Москва-Самара', 'Гольяново',\n",
       "       'Орёл', 'Королёв, М.О.', 'Дзержинский ',\n",
       "       'Московская обл., г.Красноармейск', 'г.Москва, г.Троицк',\n",
       "       'пос. Андреевка', 'Барнаул', 'Старый Оскол', 'Krasnogorsk ',\n",
       "       'Кемерово', 'Цюрих', 'Морозовск', 'Минск', 'Москва,г.Зеленоград',\n",
       "       'St. Petersburg', 'Павловский посад', 'Новоуральск', 'воронеж',\n",
       "       'Выборг', 'Ланкастер, Великобритания', 'Наро - Фоминск',\n",
       "       'Московский', 'Моксва', 'Геленджик', 'Котельники',\n",
       "       'Селятино Московской области', 'Алматы', 'Егорьевск', 'Узловая',\n",
       "       'Жуков', 'Пенза', 'Власиха', 'Ростов на Дону', 'Кимры',\n",
       "       'Копенгаген', 'Ленинград', 'Мос', 'Иркутск', 'Полярные Зори',\n",
       "       'Звездный городок', 'Арзамас', 'одинцово', 'планета Земля',\n",
       "       'Федюково', 'Еганово', 'г.Пушкино', 'г.Москва',\n",
       "       'Krasnogorsk, Moscow Region', 'Г.Москва',\n",
       "       'Омск-Томск-Киров-Москва', 'Мичуринск', 'г. Москва, г. Зеленоград',\n",
       "       'Лесной городок', 'Москва, Троицк', 'МСК', 'Щёлково, М.О.',\n",
       "       'Россия, Москва', 'тула', 'Химки, МО', 'Киржач', 'Юрга', 'Луговая',\n",
       "       'электросталь', 'Рождествено', 'Самара', 'Нижний новгород',\n",
       "       'БРОННИЦЫ, Московская область, Россия', 'Auckland, New Zealand',\n",
       "       'Российская Федерация, Москва', 'МО, Лыткарино'], dtype=object)"
      ]
     },
     "execution_count": 19,
     "metadata": {},
     "output_type": "execute_result"
    }
   ],
   "source": [
    "df['Город проживания'].unique()"
   ]
  },
  {
   "cell_type": "markdown",
   "id": "dec2e1df-df48-4394-8ce2-68296d650867",
   "metadata": {},
   "source": [
    "Заметим, что в данных довольно много ошибочных данных, например, начало с маленькой буквы, данные не относящиеся к городу, записанные на английском языке, сокращения и тд. Попробуем избавится от них"
   ]
  },
  {
   "cell_type": "code",
   "execution_count": 147,
   "id": "cd45a76a-c550-44e8-b3be-ac708386df37",
   "metadata": {},
   "outputs": [],
   "source": [
    "df['Город проживания'] = df['Город проживания'].apply(lambda x: x.capitalize())"
   ]
  },
  {
   "cell_type": "code",
   "execution_count": 132,
   "id": "33e0a324-2ba8-4e18-9e02-b94d2570393d",
   "metadata": {},
   "outputs": [
    {
     "data": {
      "text/plain": [
       "Город проживания\n",
       "Москва             9469\n",
       "Екатеринбург       1435\n",
       "Cанкт-петербург    1433\n",
       "Зеленоград          170\n",
       "Долгопрудный        159\n",
       "                   ... \n",
       "Жуковский             1\n",
       "Солнечногорск         1\n",
       "Орехово-зеуво         1\n",
       "Copenhagen            1\n",
       "Мо, лыткарино         1\n",
       "Name: count, Length: 363, dtype: int64"
      ]
     },
     "execution_count": 132,
     "metadata": {},
     "output_type": "execute_result"
    }
   ],
   "source": [
    "df['Город проживания'].value_counts()"
   ]
  },
  {
   "cell_type": "code",
   "execution_count": 148,
   "id": "c75fbccc-4fc4-40bb-bf23-98a35667d066",
   "metadata": {},
   "outputs": [
    {
     "data": {
      "text/plain": [
       "Город проживания\n",
       "Москва             9469\n",
       "Екатеринбург       1435\n",
       "Cанкт-петербург    1433\n",
       "Зеленоград          170\n",
       "Долгопрудный        159\n",
       "                   ... \n",
       "Жуковский             1\n",
       "Солнечногорск         1\n",
       "Орехово-зеуво         1\n",
       "Copenhagen            1\n",
       "Мо, лыткарино         1\n",
       "Name: count, Length: 363, dtype: int64"
      ]
     },
     "execution_count": 148,
     "metadata": {},
     "output_type": "execute_result"
    }
   ],
   "source": [
    "city_cnt = df['Город проживания'].value_counts()\n",
    "city_cnt"
   ]
  },
  {
   "cell_type": "code",
   "execution_count": 149,
   "id": "b0e67164-6271-4880-b837-d18c8dbbb7d5",
   "metadata": {
    "scrolled": true
   },
   "outputs": [
    {
     "data": {
      "text/plain": [
       "array(['Москва', 'Новосибирск', 'Cанкт-петербург', 'Долгопрудный',\n",
       "       'Екатеринбург', 'Санкт-петербург', 'Электросталь',\n",
       "       'Петропавловск-камчатский', 'Шевлягино', 'Тольятти', 'Вильнюс',\n",
       "       'Moscow', 'Раменское', 'Коломна', 'Г. тверь', 'Таллин', 'Троицк',\n",
       "       'Клявлино', 'Тверь', 'Лабытнанги', 'Обнинск', 'Лыткарино',\n",
       "       'Черноголовка', 'Сталинград', 'Рязань', 'Пушкино', 'Подольск',\n",
       "       'Зюзино', 'Село шеметово (сергиев посад)', 'Г.владимир',\n",
       "       'Железнодорожный', 'Ульяновская область', 'Люберцы', 'Пущино',\n",
       "       'Озеры', 'Молоково-нальчик', 'Стерлитамак', 'Зеленоград', 'Химки',\n",
       "       'Салехард', 'Волгоград/москва', 'Балашиха', 'Электроугли',\n",
       "       'П-посад', 'Жел-дор', 'Калуга', 'Фрязино', 'Дубна', 'Липа',\n",
       "       'Измайлово', 'Ясногорск', 'Город', 'Анапа', 'Дзержинск', 'Королёв',\n",
       "       'Город-герой москва', 'Мск', 'Красное', 'Красногорск', 'Сходня',\n",
       "       'Майкоп', 'Омск', 'Село сафарино', 'Звенигород', 'Мытищи',\n",
       "       'Цахкадзор', 'Переделкино', 'Дмитров, м.о.', 'Наро-фоминск',\n",
       "       'Лобня', 'Пос. ильинский', 'Реутов', 'Озёры', 'Ногинск', 'Вологда',\n",
       "       'Жуковский', 'Волгоград/протвино', 'Луховицы', 'Смоленск',\n",
       "       'Самарта', 'Королев', 'Московия', 'Петрозаводск', 'Мурманск',\n",
       "       'Железнодорожный мо', 'Краснознаменск',\n",
       "       'Вологодская обл. г. череповец', 'Волоколамск', 'Тула', 'Белгород',\n",
       "       'Нововоронеж', 'Дмитров', 'П. зеленоградский (пушкино)',\n",
       "       'Андреевка', 'Видное', 'Нахабино', 'Уфа-москва', 'Клин',\n",
       "       'Ярославль', 'Валдай', 'Саратов', 'Г. москва', 'Ивантеевка',\n",
       "       'Гагарин', 'Одинцово', 'Гавана', 'Москва-подольск', 'Шебекино',\n",
       "       'Киев', 'Пересвет', 'Торжок', 'Г. люберцы', 'Дублин',\n",
       "       'Ленинград-обнинск-москва', 'Воронеж', 'Москва ', 'Домодедово',\n",
       "       'Кратово', 'Протвино/обнинск', 'Сергиев посад', 'Краснодар',\n",
       "       'Moskva', 'Псков', 'Берлин', 'Митино',\n",
       "       'Кишинёв -> москва -> тянь-шань', 'Щёлково', 'Ржев', 'Климовск',\n",
       "       'Элиста', 'Снежинск', 'Кубинка', 'Москва / белгород', 'Менделеево',\n",
       "       'Серпухов', 'Котовск', 'Липецк', 'Солнечногорск', 'Саров', 'Ливны',\n",
       "       'Старая купавна', 'Московская область', 'Град зеленый', 'Истра',\n",
       "       'Москва/петербург', 'Дубна мо', 'Раменское ', 'Нижний новгород',\n",
       "       'Королев московская обл', 'Волгоград', '-', 'Димитровград', 'Чита',\n",
       "       'Жуковский московской обл.', 'Зарайск', 'Уфа',\n",
       "       'Москва-владивосток', 'Невьянск', 'Петербург', 'Washington, d.c.',\n",
       "       'Москва, зеленоград', 'Протвино', 'Чехов', 'Кулебаки',\n",
       "       'Москва и солнечногорск', 'Ulyanovsk', 'Ульяновск', 'Шушмор',\n",
       "       'Манаус', 'Бийск/москва', 'Кузяево, мо', 'Г. зеленоград',\n",
       "       'Уфа/москва', 'Королев-кулебаки', 'Вестра', 'Баку', 'Ахтубинск',\n",
       "       'Александров ', 'Пыть-ях', 'Пущино, московская область', 'Купавна',\n",
       "       'Кривой роггород', 'Водники (долгопрудный)', 'Ефремов',\n",
       "       'Апрелевка', 'Северодвинск', 'Tula', 'Шатура ', 'Москвв', 'Шатура',\n",
       "       'Трудовая, мо', 'Первомайский', 'Софрино', 'Орехово-зуево',\n",
       "       'С. ершово', 'Душанбе', 'Кашира', 'Подушкино', 'Щелково',\n",
       "       'Пос. нахабино, московская обл.', 'Красноармейск',\n",
       "       'Зеленоград, москва', 'Павловский посад', 'Воскресенск',\n",
       "       'Город на берегу реки', 'Томск', 'Удомля', 'Учалы', 'Ижевск',\n",
       "       'Казань', 'Медвежьи озёра', 'Msc', 'Можайск', 'Малаховка',\n",
       "       'Mосква', 'Александров', 'Тамбов', 'Могадишо', 'Йошкар-ола',\n",
       "       'Ташкент', 'Маёвник', 'Нахабино ', 'Куса,старыйоскол,москва',\n",
       "       'Пущино, мо', 'Детчино', 'Рыбинск', 'Мо', 'Dolgoprudny',\n",
       "       'Brentford', 'Челябинск', 'Владимир', 'Медвёдовск',\n",
       "       'Лобня московской области', 'Город королев', 'Якутск', 'Ростов',\n",
       "       'Ульяновск, москва', 'Мосвка', 'Харцызск', 'Оренбург',\n",
       "       'Калининград', 'Монино', 'Пермь', 'Догопрудный', 'Ступино',\n",
       "       'Дзержинский', 'Коренево', 'Пос. власиха', 'Анжеро-судженск',\n",
       "       'Zürich', 'Пгт. белоозёрский', 'Птичье', 'Череповец',\n",
       "       'Череповец вологодская обл.', 'Щербинка', 'Иваново', 'Msk',\n",
       "       'Киров', 'Москвп', 'Г. владимир', 'С. пышлицы', 'Краснозаводск',\n",
       "       'Ковров', 'Орел', 'Г.королев', 'Рига', 'Электростаоь',\n",
       "       'Архангельск', 'Караганда', 'Владивосток', 'Нерехта',\n",
       "       'Москва г. троицк', 'Балашов', 'Усово -тупик',\n",
       "       'Переслаль-залесский', 'Череповец ', 'Г.рязань', 'Copenhagen',\n",
       "       'Городок', 'Орехово-зеуво', 'Солнечногорск ', 'Жуковский ',\n",
       "       'Бронницы', 'Миасс', 'Лыткарино, мо',\n",
       "       'Дзержинск нижегородской обл.', 'Дзержинск  нижегородская область',\n",
       "       'Тирасполь', 'Новокузнецк', 'Нерчинский завод', 'Златоуст', 'Спб',\n",
       "       'Красково', 'Молоково', 'Изенгард', 'Ставрополь', 'Брянск',\n",
       "       'Владивосток ', 'Ростов-на-дону', 'Москва-самара', 'Гольяново',\n",
       "       'Орёл', 'Королёв, м.о.', 'Дзержинский ',\n",
       "       'Московская обл., г.красноармейск', 'Г.москва, г.троицк',\n",
       "       'Пос. андреевка', 'Барнаул', 'Старый оскол', 'Krasnogorsk ',\n",
       "       'Кемерово', 'Цюрих', 'Морозовск', 'Минск', 'Москва,г.зеленоград',\n",
       "       'St. petersburg', 'Новоуральск', 'Выборг',\n",
       "       'Ланкастер, великобритания', 'Наро - фоминск', 'Московский',\n",
       "       'Моксва', 'Геленджик', 'Котельники', 'Селятино московской области',\n",
       "       'Алматы', 'Егорьевск', 'Узловая', 'Жуков', 'Пенза', 'Власиха',\n",
       "       'Ростов на дону', 'Кимры', 'Копенгаген', 'Ленинград', 'Мос',\n",
       "       'Иркутск', 'Полярные зори', 'Звездный городок', 'Арзамас',\n",
       "       'Планета земля', 'Федюково', 'Еганово', 'Г.пушкино', 'Г.москва',\n",
       "       'Krasnogorsk, moscow region', 'Омск-томск-киров-москва',\n",
       "       'Мичуринск', 'Г. москва, г. зеленоград', 'Лесной городок',\n",
       "       'Москва, троицк', 'Щёлково, м.о.', 'Россия, москва', 'Химки, мо',\n",
       "       'Киржач', 'Юрга', 'Луговая', 'Рождествено', 'Самара',\n",
       "       'Бронницы, московская область, россия', 'Auckland, new zealand',\n",
       "       'Российская федерация, москва', 'Мо, лыткарино'], dtype=object)"
      ]
     },
     "execution_count": 149,
     "metadata": {},
     "output_type": "execute_result"
    }
   ],
   "source": [
    "city_unq = df['Город проживания'].unique()\n",
    "city_unq"
   ]
  },
  {
   "cell_type": "code",
   "execution_count": 150,
   "id": "4bdb3364-4a9f-497f-8721-cae668862fc1",
   "metadata": {},
   "outputs": [
    {
     "data": {
      "text/plain": [
       "[9469,\n",
       " 11,\n",
       " 1433,\n",
       " 159,\n",
       " 1435,\n",
       " 58,\n",
       " 54,\n",
       " 12,\n",
       " 22,\n",
       " 11,\n",
       " 6,\n",
       " 67,\n",
       " 45,\n",
       " 18,\n",
       " 1,\n",
       " 20,\n",
       " 21,\n",
       " 8,\n",
       " 66,\n",
       " 24,\n",
       " 64,\n",
       " 50,\n",
       " 46,\n",
       " 1,\n",
       " 124,\n",
       " 58,\n",
       " 95,\n",
       " 3,\n",
       " 9,\n",
       " 10,\n",
       " 82,\n",
       " 10,\n",
       " 106,\n",
       " 29,\n",
       " 3,\n",
       " 3,\n",
       " 10,\n",
       " 170,\n",
       " 84,\n",
       " 143,\n",
       " 5,\n",
       " 81,\n",
       " 15,\n",
       " 6,\n",
       " 9,\n",
       " 40,\n",
       " 30,\n",
       " 57,\n",
       " 2,\n",
       " 4,\n",
       " 10,\n",
       " 14,\n",
       " 1,\n",
       " 13,\n",
       " 80,\n",
       " 4,\n",
       " 32,\n",
       " 1,\n",
       " 81,\n",
       " 10,\n",
       " 7,\n",
       " 1,\n",
       " 9,\n",
       " 2,\n",
       " 88,\n",
       " 8,\n",
       " 10,\n",
       " 1,\n",
       " 15,\n",
       " 38,\n",
       " 17,\n",
       " 15,\n",
       " 5,\n",
       " 34,\n",
       " 10,\n",
       " 64,\n",
       " 3,\n",
       " 11,\n",
       " 22,\n",
       " 6,\n",
       " 67,\n",
       " 6,\n",
       " 6,\n",
       " 6,\n",
       " 2,\n",
       " 20,\n",
       " 6,\n",
       " 5,\n",
       " 55,\n",
       " 18,\n",
       " 2,\n",
       " 32,\n",
       " 9,\n",
       " 3,\n",
       " 15,\n",
       " 12,\n",
       " 9,\n",
       " 13,\n",
       " 23,\n",
       " 1,\n",
       " 9,\n",
       " 7,\n",
       " 27,\n",
       " 2,\n",
       " 83,\n",
       " 8,\n",
       " 5,\n",
       " 2,\n",
       " 1,\n",
       " 2,\n",
       " 10,\n",
       " 1,\n",
       " 7,\n",
       " 10,\n",
       " 67,\n",
       " 18,\n",
       " 31,\n",
       " 4,\n",
       " 7,\n",
       " 26,\n",
       " 2,\n",
       " 10,\n",
       " 3,\n",
       " 10,\n",
       " 5,\n",
       " 6,\n",
       " 6,\n",
       " 10,\n",
       " 10,\n",
       " 2,\n",
       " 5,\n",
       " 6,\n",
       " 8,\n",
       " 10,\n",
       " 10,\n",
       " 1,\n",
       " 31,\n",
       " 17,\n",
       " 1,\n",
       " 1,\n",
       " 11,\n",
       " 11,\n",
       " 1,\n",
       " 2,\n",
       " 2,\n",
       " 1,\n",
       " 1,\n",
       " 18,\n",
       " 8,\n",
       " 18,\n",
       " 1,\n",
       " 16,\n",
       " 3,\n",
       " 9,\n",
       " 7,\n",
       " 3,\n",
       " 5,\n",
       " 1,\n",
       " 1,\n",
       " 8,\n",
       " 9,\n",
       " 3,\n",
       " 15,\n",
       " 7,\n",
       " 6,\n",
       " 2,\n",
       " 10,\n",
       " 8,\n",
       " 9,\n",
       " 3,\n",
       " 7,\n",
       " 4,\n",
       " 8,\n",
       " 6,\n",
       " 2,\n",
       " 2,\n",
       " 1,\n",
       " 3,\n",
       " 7,\n",
       " 7,\n",
       " 2,\n",
       " 2,\n",
       " 8,\n",
       " 2,\n",
       " 8,\n",
       " 4,\n",
       " 1,\n",
       " 1,\n",
       " 3,\n",
       " 11,\n",
       " 7,\n",
       " 4,\n",
       " 3,\n",
       " 9,\n",
       " 4,\n",
       " 1,\n",
       " 1,\n",
       " 5,\n",
       " 17,\n",
       " 7,\n",
       " 4,\n",
       " 8,\n",
       " 6,\n",
       " 4,\n",
       " 1,\n",
       " 8,\n",
       " 1,\n",
       " 1,\n",
       " 2,\n",
       " 8,\n",
       " 2,\n",
       " 1,\n",
       " 1,\n",
       " 2,\n",
       " 1,\n",
       " 3,\n",
       " 25,\n",
       " 5,\n",
       " 8,\n",
       " 2,\n",
       " 1,\n",
       " 1,\n",
       " 6,\n",
       " 5,\n",
       " 3,\n",
       " 5,\n",
       " 3,\n",
       " 1,\n",
       " 1,\n",
       " 8,\n",
       " 25,\n",
       " 1,\n",
       " 2,\n",
       " 3,\n",
       " 2,\n",
       " 2,\n",
       " 4,\n",
       " 3,\n",
       " 2,\n",
       " 6,\n",
       " 10,\n",
       " 16,\n",
       " 1,\n",
       " 1,\n",
       " 9,\n",
       " 14,\n",
       " 6,\n",
       " 7,\n",
       " 7,\n",
       " 1,\n",
       " 1,\n",
       " 3,\n",
       " 3,\n",
       " 1,\n",
       " 1,\n",
       " 4,\n",
       " 6,\n",
       " 3,\n",
       " 4,\n",
       " 1,\n",
       " 3,\n",
       " 2,\n",
       " 2,\n",
       " 13,\n",
       " 2,\n",
       " 3,\n",
       " 1,\n",
       " 1,\n",
       " 1,\n",
       " 5,\n",
       " 8,\n",
       " 6,\n",
       " 1,\n",
       " 4,\n",
       " 1,\n",
       " 1,\n",
       " 2,\n",
       " 1,\n",
       " 2,\n",
       " 1,\n",
       " 1,\n",
       " 1,\n",
       " 1,\n",
       " 1,\n",
       " 1,\n",
       " 5,\n",
       " 3,\n",
       " 1,\n",
       " 1,\n",
       " 1,\n",
       " 1,\n",
       " 2,\n",
       " 2,\n",
       " 5,\n",
       " 1,\n",
       " 3,\n",
       " 2,\n",
       " 1,\n",
       " 1,\n",
       " 3,\n",
       " 1,\n",
       " 1,\n",
       " 1,\n",
       " 1,\n",
       " 1,\n",
       " 2,\n",
       " 1,\n",
       " 1,\n",
       " 1,\n",
       " 2,\n",
       " 1,\n",
       " 3,\n",
       " 2,\n",
       " 4,\n",
       " 3,\n",
       " 1,\n",
       " 1,\n",
       " 1,\n",
       " 2,\n",
       " 2,\n",
       " 4,\n",
       " 2,\n",
       " 1,\n",
       " 1,\n",
       " 1,\n",
       " 2,\n",
       " 1,\n",
       " 1,\n",
       " 4,\n",
       " 1,\n",
       " 1,\n",
       " 2,\n",
       " 1,\n",
       " 2,\n",
       " 3,\n",
       " 3,\n",
       " 1,\n",
       " 1,\n",
       " 1,\n",
       " 1,\n",
       " 2,\n",
       " 2,\n",
       " 1,\n",
       " 1,\n",
       " 2,\n",
       " 1,\n",
       " 1,\n",
       " 1,\n",
       " 2,\n",
       " 1,\n",
       " 2,\n",
       " 1,\n",
       " 1,\n",
       " 1,\n",
       " 1,\n",
       " 1,\n",
       " 1,\n",
       " 1,\n",
       " 1,\n",
       " 1,\n",
       " 1,\n",
       " 1,\n",
       " 1]"
      ]
     },
     "execution_count": 150,
     "metadata": {},
     "output_type": "execute_result"
    }
   ],
   "source": [
    "city_cnt_unq = []\n",
    "for x in city_unq:\n",
    "    city_cnt_unq.append(city_cnt[x])\n",
    "city_cnt_unq"
   ]
  },
  {
   "cell_type": "code",
   "execution_count": 151,
   "id": "2d4a16a8-a68b-4bba-84e2-ae7aad787a86",
   "metadata": {},
   "outputs": [
    {
     "data": {
      "text/plain": [
       "Москва                                  9469\n",
       "Новосибирск                               11\n",
       "Cанкт-петербург                         1433\n",
       "Долгопрудный                             159\n",
       "Екатеринбург                            1435\n",
       "                                        ... \n",
       "Самара                                     1\n",
       "Бронницы, московская область, россия       1\n",
       "Auckland, new zealand                      1\n",
       "Российская федерация, москва               1\n",
       "Мо, лыткарино                              1\n",
       "Name: count, Length: 363, dtype: int64"
      ]
     },
     "execution_count": 151,
     "metadata": {},
     "output_type": "execute_result"
    }
   ],
   "source": [
    "ser = pd.Series(city_cnt, index=city_unq)\n",
    "ser"
   ]
  },
  {
   "cell_type": "code",
   "execution_count": 138,
   "id": "ca3cef8d-f5cc-4261-a111-6e68b07f827e",
   "metadata": {},
   "outputs": [
    {
     "data": {
      "text/plain": [
       "Москва             9469\n",
       "Екатеринбург       1435\n",
       "Cанкт-петербург    1433\n",
       "Зеленоград          170\n",
       "Долгопрудный        159\n",
       "                   ... \n",
       "Жуковский             1\n",
       "Солнечногорск         1\n",
       "Орехово-зеуво         1\n",
       "Copenhagen            1\n",
       "Мо, лыткарино         1\n",
       "Name: count, Length: 363, dtype: int64"
      ]
     },
     "execution_count": 138,
     "metadata": {},
     "output_type": "execute_result"
    }
   ],
   "source": [
    "ser = ser.sort_values(ascending=False)\n",
    "ser"
   ]
  },
  {
   "cell_type": "code",
   "execution_count": 38,
   "id": "d989c28d-fa71-46c7-880c-21b3cc524601",
   "metadata": {},
   "outputs": [
    {
     "data": {
      "image/png": "[encoded data removed]",
      "text/plain": [
       "<Figure size 640x480 with 1 Axes>"
      ]
     },
     "metadata": {},
     "output_type": "display_data"
    }
   ],
   "source": [
    "x = ser.index\n",
    "y = ser.values\n",
    "\n",
    "plt.bar(x[:10:], y[:10:]) \n",
    "plt.xlabel('Город проживания')\n",
    "plt.ylabel('Количество людей')\n",
    "plt.title('Количество людей из различных городов')\n",
    "plt.show()"
   ]
  },
  {
   "cell_type": "markdown",
   "id": "0acf60ef-e87a-4a94-ba2f-ebc74a9388c4",
   "metadata": {},
   "source": [
    "Как мы видим по гистограмме, аболютное большинство людей из трех городов, а именно: Москвы, Екатеринбурга и Cанкт-петербурга. Москва отрывается слишком сильно, Сантк-Петерубрг или Екатеринбург не догонят её в любом случае, а остальыне города слишком малы в сравнениее с Санкт-Петербургом и Екатеринбургом, поэтому они никак не сыграют никакой роли. Исходя из этого займемся целенаправленной чисткой данных именно по этим двум городам: Санкт-Петербург и Екатеринбург."
   ]
  },
  {
   "cell_type": "code",
   "execution_count": 152,
   "id": "88745a41-ff6d-4420-84fb-75a15a62f77a",
   "metadata": {},
   "outputs": [
    {
     "data": {
      "text/plain": [
       "363"
      ]
     },
     "execution_count": 152,
     "metadata": {},
     "output_type": "execute_result"
    }
   ],
   "source": [
    "len(df['Город проживания'].unique())"
   ]
  },
  {
   "cell_type": "code",
   "execution_count": 154,
   "id": "ef920703-af90-4591-9de5-1cc4eb85e0e7",
   "metadata": {},
   "outputs": [],
   "source": [
    "def repair(city):\n",
    "    problems = ['Cанкт-петербург', 'Санкт-петербург', 'Ленинград', 'Спб', 'St. petersburg', 'Петербург']\n",
    "    if city in problems:\n",
    "        return \"Cанкт-петербург\"\n",
    "    else:\n",
    "        return city\n",
    "\n",
    "df['Город проживания'] = df['Город проживания'].apply(lambda x: repair(x))"
   ]
  },
  {
   "cell_type": "code",
   "execution_count": 155,
   "id": "0ca1ef04-85eb-43fb-bdc2-829894fe707d",
   "metadata": {},
   "outputs": [],
   "source": [
    "cur = df['Город проживания'].value_counts().head(25)"
   ]
  },
  {
   "cell_type": "code",
   "execution_count": 156,
   "id": "b07cf739-570d-4ce8-aa7e-4543e605c39e",
   "metadata": {},
   "outputs": [
    {
     "data": {
      "text/plain": [
       "358"
      ]
     },
     "execution_count": 156,
     "metadata": {},
     "output_type": "execute_result"
    }
   ],
   "source": [
    "len(df['Город проживания'].unique())"
   ]
  },
  {
   "cell_type": "code",
   "execution_count": 157,
   "id": "03710a43-1665-4c6f-8eaf-fff5edba7338",
   "metadata": {
    "scrolled": true
   },
   "outputs": [
    {
     "data": {
      "text/plain": [
       "Город проживания\n",
       "Москва             9469\n",
       "Cанкт-петербург    1498\n",
       "Екатеринбург       1435\n",
       "Зеленоград          170\n",
       "Долгопрудный        159\n",
       "Салехард            143\n",
       "Рязань              124\n",
       "Люберцы             106\n",
       "Подольск             95\n",
       "Мытищи               88\n",
       "Химки                84\n",
       "Одинцово             83\n",
       "Железнодорожный      82\n",
       "Красногорск          81\n",
       "Балашиха             81\n",
       "Королёв              80\n",
       "Воронеж              67\n",
       "Королев              67\n",
       "Moscow               67\n",
       "Тверь                66\n",
       "Обнинск              64\n",
       "Жуковский            64\n",
       "Пушкино              58\n",
       "Дубна                57\n",
       "Тула                 55\n",
       "Name: count, dtype: int64"
      ]
     },
     "execution_count": 157,
     "metadata": {},
     "output_type": "execute_result"
    }
   ],
   "source": [
    "cur"
   ]
  },
  {
   "cell_type": "code",
   "execution_count": 158,
   "id": "8d7de88f-220a-4783-a672-f198a41952e5",
   "metadata": {},
   "outputs": [
    {
     "data": {
      "text/plain": [
       "358"
      ]
     },
     "execution_count": 158,
     "metadata": {},
     "output_type": "execute_result"
    }
   ],
   "source": [
    "len(df['Город проживания'].unique())"
   ]
  },
  {
   "cell_type": "markdown",
   "id": "70d92429-fa73-45f0-b83f-963fce469664",
   "metadata": {},
   "source": [
    "Теперь, когда все данные по этим городам приведены в нормальное состояние, мы можем сравить их."
   ]
  },
  {
   "cell_type": "markdown",
   "id": "9f464dd0-4bbf-4749-a4fb-e8085aecfbee",
   "metadata": {},
   "source": [
    "Мода по городам - Москва. Причем заметим, что Москва составляет более 57% от общего количества участников, следовательно больше Москвы набрать невозможно. Также как и в случае с годом рождения, мода и определит \"типичного\" участника. \"Типичный\" участник из Москвы"
   ]
  },
  {
   "cell_type": "markdown",
   "id": "0eb613ff-85e4-4df4-87d2-188902f61dab",
   "metadata": {},
   "source": []
  },
  {
   "cell_type": "markdown",
   "id": "5323a184-5516-4761-8e2f-1b0cd33b03ae",
   "metadata": {},
   "source": [
    "Определим пол \"типичного\" участника:"
   ]
  },
  {
   "cell_type": "code",
   "execution_count": 159,
   "id": "04e9956a-d7fe-4b3f-b154-467bc0883d16",
   "metadata": {},
   "outputs": [
    {
     "data": {
      "text/plain": [
       "Пол\n",
       "М    12121\n",
       "Ж     4384\n",
       "Name: count, dtype: int64"
      ]
     },
     "execution_count": 159,
     "metadata": {},
     "output_type": "execute_result"
    }
   ],
   "source": [
    "df['Пол'].value_counts()"
   ]
  },
  {
   "cell_type": "markdown",
   "id": "950a2258-6387-4ffe-8647-fe35d86ca72e",
   "metadata": {},
   "source": [
    "Так как этот столбец бинарный, то можно использовать только моду, тогда:"
   ]
  },
  {
   "cell_type": "code",
   "execution_count": 160,
   "id": "02ec4af6-1eed-4f95-a2c7-b75c4937d2e5",
   "metadata": {},
   "outputs": [
    {
     "name": "stdout",
     "output_type": "stream",
     "text": [
      "73.43835201454105%\n"
     ]
    }
   ],
   "source": [
    "print(f'{12121/16505*100}%')"
   ]
  },
  {
   "cell_type": "markdown",
   "id": "2ed40e2a-6026-49b0-983b-149c73b11fac",
   "metadata": {},
   "source": [
    "Мужчины составляют более 73% от всех участников, следовательно \"типичный\" участник - мужчина"
   ]
  },
  {
   "cell_type": "markdown",
   "id": "5bffee18-3452-4cf3-96ef-675333e9e3f0",
   "metadata": {},
   "source": [
    "Тогда \"типичный\" участник это - мужчина, 1988 года рождения, из Москвы"
   ]
  },
  {
   "cell_type": "markdown",
   "id": "f5ae6a6a-e0f3-4138-aea3-0733e7814ba6",
   "metadata": {},
   "source": []
  },
  {
   "cell_type": "markdown",
   "id": "485e3272-6e40-4c4b-8c35-dde0700535cf",
   "metadata": {},
   "source": [
    "Пункт 6"
   ]
  },
  {
   "cell_type": "markdown",
   "id": "8ce4ee6f-ad26-4a7a-9a25-5017d07dcdd2",
   "metadata": {},
   "source": [
    "Воспользуемся ранее проделанными действиями и расчетами:"
   ]
  },
  {
   "cell_type": "code",
   "execution_count": 161,
   "id": "647a7227-271f-428c-9849-77a4fa9caf07",
   "metadata": {},
   "outputs": [
    {
     "data": {
      "text/plain": [
       "Город проживания\n",
       "Москва             9469\n",
       "Cанкт-петербург    1498\n",
       "Екатеринбург       1435\n",
       "Зеленоград          170\n",
       "Долгопрудный        159\n",
       "Салехард            143\n",
       "Рязань              124\n",
       "Люберцы             106\n",
       "Подольск             95\n",
       "Мытищи               88\n",
       "Name: count, dtype: int64"
      ]
     },
     "execution_count": 161,
     "metadata": {},
     "output_type": "execute_result"
    }
   ],
   "source": [
    "cur = df['Город проживания'].value_counts().head(10)\n",
    "cur"
   ]
  },
  {
   "cell_type": "markdown",
   "id": "2ccd5c42-d4af-4d98-a778-784567a4e077",
   "metadata": {},
   "source": [
    "Ответ: Москва, Санкт-Петербург, Екатеринбург"
   ]
  },
  {
   "cell_type": "markdown",
   "id": "d3b4b16a-b8d2-402d-8e77-f44f437e2896",
   "metadata": {},
   "source": []
  },
  {
   "cell_type": "markdown",
   "id": "96c57731-9fe6-4500-b155-7df59e1bea39",
   "metadata": {},
   "source": [
    "Пункт 5"
   ]
  },
  {
   "cell_type": "code",
   "execution_count": 197,
   "id": "c93459f4-3953-4682-a927-3053cf73a230",
   "metadata": {},
   "outputs": [
    {
     "data": {
      "text/html": [
       "<div>\n",
       "<style scoped>\n",
       "    .dataframe tbody tr th:only-of-type {\n",
       "        vertical-align: middle;\n",
       "    }\n",
       "\n",
       "    .dataframe tbody tr th {\n",
       "        vertical-align: top;\n",
       "    }\n",
       "\n",
       "    .dataframe thead th {\n",
       "        text-align: right;\n",
       "    }\n",
       "</style>\n",
       "<table border=\"1\" class=\"dataframe\">\n",
       "  <thead>\n",
       "    <tr style=\"text-align: right;\">\n",
       "      <th></th>\n",
       "      <th>Соревнование</th>\n",
       "      <th>Год проведения</th>\n",
       "      <th>ID участника</th>\n",
       "      <th>Место команды участника</th>\n",
       "      <th>Пол</th>\n",
       "      <th>Год рождения</th>\n",
       "      <th>Город проживания</th>\n",
       "    </tr>\n",
       "  </thead>\n",
       "  <tbody>\n",
       "    <tr>\n",
       "      <th>1</th>\n",
       "      <td>2014 весна</td>\n",
       "      <td>2014</td>\n",
       "      <td>2</td>\n",
       "      <td>17</td>\n",
       "      <td>М</td>\n",
       "      <td>1987</td>\n",
       "      <td>Москва</td>\n",
       "    </tr>\n",
       "    <tr>\n",
       "      <th>6</th>\n",
       "      <td>2014 весна</td>\n",
       "      <td>2014</td>\n",
       "      <td>7</td>\n",
       "      <td>27</td>\n",
       "      <td>М</td>\n",
       "      <td>1988</td>\n",
       "      <td>Долгопрудный</td>\n",
       "    </tr>\n",
       "    <tr>\n",
       "      <th>11</th>\n",
       "      <td>2014 весна</td>\n",
       "      <td>2014</td>\n",
       "      <td>12</td>\n",
       "      <td>61</td>\n",
       "      <td>М</td>\n",
       "      <td>1986</td>\n",
       "      <td>Cанкт-петербург</td>\n",
       "    </tr>\n",
       "    <tr>\n",
       "      <th>12</th>\n",
       "      <td>2014 весна</td>\n",
       "      <td>2014</td>\n",
       "      <td>13</td>\n",
       "      <td>84</td>\n",
       "      <td>Ж</td>\n",
       "      <td>1976</td>\n",
       "      <td>Москва</td>\n",
       "    </tr>\n",
       "    <tr>\n",
       "      <th>57</th>\n",
       "      <td>2014 весна</td>\n",
       "      <td>2014</td>\n",
       "      <td>58</td>\n",
       "      <td>97</td>\n",
       "      <td>М</td>\n",
       "      <td>1984</td>\n",
       "      <td>Cанкт-петербург</td>\n",
       "    </tr>\n",
       "    <tr>\n",
       "      <th>...</th>\n",
       "      <td>...</td>\n",
       "      <td>...</td>\n",
       "      <td>...</td>\n",
       "      <td>...</td>\n",
       "      <td>...</td>\n",
       "      <td>...</td>\n",
       "      <td>...</td>\n",
       "    </tr>\n",
       "    <tr>\n",
       "      <th>16492</th>\n",
       "      <td>2018 осень</td>\n",
       "      <td>2018</td>\n",
       "      <td>16493</td>\n",
       "      <td>22</td>\n",
       "      <td>М</td>\n",
       "      <td>1983</td>\n",
       "      <td>Воронеж</td>\n",
       "    </tr>\n",
       "    <tr>\n",
       "      <th>16493</th>\n",
       "      <td>2018 осень</td>\n",
       "      <td>2018</td>\n",
       "      <td>16494</td>\n",
       "      <td>58</td>\n",
       "      <td>М</td>\n",
       "      <td>1982</td>\n",
       "      <td>Салехард</td>\n",
       "    </tr>\n",
       "    <tr>\n",
       "      <th>16494</th>\n",
       "      <td>2018 осень</td>\n",
       "      <td>2018</td>\n",
       "      <td>16495</td>\n",
       "      <td>58</td>\n",
       "      <td>Ж</td>\n",
       "      <td>1981</td>\n",
       "      <td>Красногорск</td>\n",
       "    </tr>\n",
       "    <tr>\n",
       "      <th>16499</th>\n",
       "      <td>2018 осень</td>\n",
       "      <td>2018</td>\n",
       "      <td>16500</td>\n",
       "      <td>35</td>\n",
       "      <td>М</td>\n",
       "      <td>1979</td>\n",
       "      <td>Cанкт-петербург</td>\n",
       "    </tr>\n",
       "    <tr>\n",
       "      <th>16500</th>\n",
       "      <td>2018 осень</td>\n",
       "      <td>2018</td>\n",
       "      <td>16501</td>\n",
       "      <td>35</td>\n",
       "      <td>М</td>\n",
       "      <td>1980</td>\n",
       "      <td>Москва</td>\n",
       "    </tr>\n",
       "  </tbody>\n",
       "</table>\n",
       "<p>1448 rows × 7 columns</p>\n",
       "</div>"
      ],
      "text/plain": [
       "      Соревнование  Год проведения  ID участника  Место команды участника Пол  \\\n",
       "1       2014 весна            2014             2                       17   М   \n",
       "6       2014 весна            2014             7                       27   М   \n",
       "11      2014 весна            2014            12                       61   М   \n",
       "12      2014 весна            2014            13                       84   Ж   \n",
       "57      2014 весна            2014            58                       97   М   \n",
       "...            ...             ...           ...                      ...  ..   \n",
       "16492   2018 осень            2018         16493                       22   М   \n",
       "16493   2018 осень            2018         16494                       58   М   \n",
       "16494   2018 осень            2018         16495                       58   Ж   \n",
       "16499   2018 осень            2018         16500                       35   М   \n",
       "16500   2018 осень            2018         16501                       35   М   \n",
       "\n",
       "       Год рождения Город проживания  \n",
       "1              1987           Москва  \n",
       "6              1988     Долгопрудный  \n",
       "11             1986  Cанкт-петербург  \n",
       "12             1976           Москва  \n",
       "57             1984  Cанкт-петербург  \n",
       "...             ...              ...  \n",
       "16492          1983          Воронеж  \n",
       "16493          1982         Салехард  \n",
       "16494          1981      Красногорск  \n",
       "16499          1979  Cанкт-петербург  \n",
       "16500          1980           Москва  \n",
       "\n",
       "[1448 rows x 7 columns]"
      ]
     },
     "execution_count": 197,
     "metadata": {},
     "output_type": "execute_result"
    }
   ],
   "source": [
    "df_top = df[df[\"Место команды участника\"] <= 100]\n",
    "df_top"
   ]
  },
  {
   "cell_type": "code",
   "execution_count": 198,
   "id": "7bf21f77-5a85-4433-9540-1c19b8e17a8e",
   "metadata": {},
   "outputs": [
    {
     "name": "stdout",
     "output_type": "stream",
     "text": [
      "<class 'pandas.core.frame.DataFrame'>\n",
      "Index: 1448 entries, 1 to 16500\n",
      "Data columns (total 7 columns):\n",
      " #   Column                   Non-Null Count  Dtype \n",
      "---  ------                   --------------  ----- \n",
      " 0   Соревнование             1448 non-null   object\n",
      " 1   Год проведения           1448 non-null   int64 \n",
      " 2   ID участника             1448 non-null   int64 \n",
      " 3   Место команды участника  1448 non-null   int64 \n",
      " 4   Пол                      1448 non-null   object\n",
      " 5   Год рождения             1448 non-null   int64 \n",
      " 6   Город проживания         1448 non-null   object\n",
      "dtypes: int64(4), object(3)\n",
      "memory usage: 90.5+ KB\n"
     ]
    }
   ],
   "source": [
    "df_top.info()"
   ]
  },
  {
   "cell_type": "code",
   "execution_count": 199,
   "id": "bd14f3ae-eef3-4472-abb7-1e96d3f6d40c",
   "metadata": {},
   "outputs": [
    {
     "data": {
      "text/plain": [
       "True"
      ]
     },
     "execution_count": 199,
     "metadata": {},
     "output_type": "execute_result"
    }
   ],
   "source": [
    "len(df_top[df_top.notnull()]) == len(df_top)"
   ]
  },
  {
   "cell_type": "code",
   "execution_count": null,
   "id": "261ac400-6a60-4277-a370-4ff046fc72cb",
   "metadata": {},
   "outputs": [],
   "source": []
  },
  {
   "cell_type": "markdown",
   "id": "8f994f26-4c37-4d57-b361-231778bd6894",
   "metadata": {},
   "source": [
    "Пустых ячеек у нас нет"
   ]
  },
  {
   "cell_type": "code",
   "execution_count": 200,
   "id": "2905b2bd-6b2a-42af-95f6-2d30034447da",
   "metadata": {},
   "outputs": [
    {
     "data": {
      "text/plain": [
       "Год рождения\n",
       "1984    150\n",
       "1988    119\n",
       "1983    104\n",
       "1985     94\n",
       "1981     91\n",
       "1987     89\n",
       "1990     86\n",
       "1989     85\n",
       "1982     66\n",
       "1986     52\n",
       "1991     41\n",
       "1979     39\n",
       "1980     39\n",
       "1978     34\n",
       "1974     32\n",
       "1976     30\n",
       "1992     28\n",
       "1971     27\n",
       "1968     25\n",
       "1993     25\n",
       "1977     23\n",
       "1975     20\n",
       "1969     20\n",
       "1965     16\n",
       "1995     14\n",
       "1994     13\n",
       "1972     10\n",
       "1962     10\n",
       "1956      9\n",
       "1963      9\n",
       "1996      8\n",
       "1973      6\n",
       "2000      5\n",
       "1966      4\n",
       "1967      4\n",
       "1952      3\n",
       "1998      3\n",
       "1997      2\n",
       "1953      2\n",
       "1999      2\n",
       "1970      2\n",
       "1951      2\n",
       "1958      1\n",
       "1961      1\n",
       "1954      1\n",
       "1960      1\n",
       "1964      1\n",
       "Name: count, dtype: int64"
      ]
     },
     "execution_count": 200,
     "metadata": {},
     "output_type": "execute_result"
    }
   ],
   "source": [
    "year_cnt_top = df_top['Год рождения'].value_counts()\n",
    "year_cnt_top"
   ]
  },
  {
   "cell_type": "code",
   "execution_count": 201,
   "id": "02cf1d2d-4571-4f56-b0df-4a437aed24f6",
   "metadata": {},
   "outputs": [
    {
     "data": {
      "text/plain": [
       "array([1987, 1988, 1986, 1976, 1984, 1974, 1968, 1981, 1969, 1951, 1963,\n",
       "       1979, 1982, 1990, 1983, 1975, 1985, 1991, 1989, 1980, 1994, 1978,\n",
       "       1972, 1956, 1971, 1965, 1962, 1952, 1973, 1992, 1966, 2000, 1995,\n",
       "       1993, 1967, 1977, 1970, 1999, 1953, 1958, 1996, 1961, 1998, 1954,\n",
       "       1960, 1997, 1964], dtype=int64)"
      ]
     },
     "execution_count": 201,
     "metadata": {},
     "output_type": "execute_result"
    }
   ],
   "source": [
    "year_unq_top = df_top['Год рождения'].unique()\n",
    "year_unq_top"
   ]
  },
  {
   "cell_type": "code",
   "execution_count": 202,
   "id": "2ed1d66c-bee2-4605-ad13-88ffec494425",
   "metadata": {},
   "outputs": [
    {
     "data": {
      "text/plain": [
       "[89,\n",
       " 119,\n",
       " 52,\n",
       " 30,\n",
       " 150,\n",
       " 32,\n",
       " 25,\n",
       " 91,\n",
       " 20,\n",
       " 2,\n",
       " 9,\n",
       " 39,\n",
       " 66,\n",
       " 86,\n",
       " 104,\n",
       " 20,\n",
       " 94,\n",
       " 41,\n",
       " 85,\n",
       " 39,\n",
       " 13,\n",
       " 34,\n",
       " 10,\n",
       " 9,\n",
       " 27,\n",
       " 16,\n",
       " 10,\n",
       " 3,\n",
       " 6,\n",
       " 28,\n",
       " 4,\n",
       " 5,\n",
       " 14,\n",
       " 25,\n",
       " 4,\n",
       " 23,\n",
       " 2,\n",
       " 2,\n",
       " 2,\n",
       " 1,\n",
       " 8,\n",
       " 1,\n",
       " 3,\n",
       " 1,\n",
       " 1,\n",
       " 2,\n",
       " 1]"
      ]
     },
     "execution_count": 202,
     "metadata": {},
     "output_type": "execute_result"
    }
   ],
   "source": [
    "year_cnt_unq_top = []\n",
    "for x in year_unq_top:\n",
    "    year_cnt_unq_top.append(year_cnt_top[x])\n",
    "year_cnt_unq_top"
   ]
  },
  {
   "cell_type": "code",
   "execution_count": 204,
   "id": "1e7766c4-a1a2-4bc9-998b-13e0245a5632",
   "metadata": {
    "scrolled": true
   },
   "outputs": [
    {
     "data": {
      "image/png": "[encoded data removed]",
      "text/plain": [
       "<Figure size 640x480 with 1 Axes>"
      ]
     },
     "metadata": {},
     "output_type": "display_data"
    }
   ],
   "source": [
    "x = year_unq_top\n",
    "y = year_cnt_unq_top\n",
    "\n",
    "plt.bar(x, y) \n",
    "plt.xlabel('Год рождения')\n",
    "plt.ylabel('Количество людей')\n",
    "plt.title('Количество людей различных годов рождения')\n",
    "plt.show()"
   ]
  },
  {
   "cell_type": "markdown",
   "id": "619bffa8-8770-4687-80a8-c4f839cb4dc9",
   "metadata": {},
   "source": [
    "График ассимтеричен, имеются не очень хорошие значения, походящие на выбросы, поэтому для определения года рождения \"типичного\" участника используем моду и медиану, так как они не подвержены выбросам:"
   ]
  },
  {
   "cell_type": "code",
   "execution_count": 205,
   "id": "2a2bd0bc-c5dd-4e62-88fd-1440746f5218",
   "metadata": {
    "scrolled": true
   },
   "outputs": [
    {
     "data": {
      "text/plain": [
       "1987     89\n",
       "1988    119\n",
       "1986     52\n",
       "1976     30\n",
       "1984    150\n",
       "1974     32\n",
       "1968     25\n",
       "1981     91\n",
       "1969     20\n",
       "1951      2\n",
       "1963      9\n",
       "1979     39\n",
       "1982     66\n",
       "1990     86\n",
       "1983    104\n",
       "1975     20\n",
       "1985     94\n",
       "1991     41\n",
       "1989     85\n",
       "1980     39\n",
       "1994     13\n",
       "1978     34\n",
       "1972     10\n",
       "1956      9\n",
       "1971     27\n",
       "1965     16\n",
       "1962     10\n",
       "1952      3\n",
       "1973      6\n",
       "1992     28\n",
       "1966      4\n",
       "2000      5\n",
       "1995     14\n",
       "1993     25\n",
       "1967      4\n",
       "1977     23\n",
       "1970      2\n",
       "1999      2\n",
       "1953      2\n",
       "1958      1\n",
       "1996      8\n",
       "1961      1\n",
       "1998      3\n",
       "1954      1\n",
       "1960      1\n",
       "1997      2\n",
       "1964      1\n",
       "Name: count, dtype: int64"
      ]
     },
     "execution_count": 205,
     "metadata": {},
     "output_type": "execute_result"
    }
   ],
   "source": [
    "ser_top = pd.Series(year_cnt_top, index=year_unq_top)\n",
    "ser_top"
   ]
  },
  {
   "cell_type": "code",
   "execution_count": 217,
   "id": "d0d5eb9f-d8e9-4aee-a841-bc5be8f7f221",
   "metadata": {},
   "outputs": [
    {
     "name": "stdout",
     "output_type": "stream",
     "text": [
      "0    1984\n",
      "Name: Год рождения, dtype: int64\n",
      "1984.0\n"
     ]
    }
   ],
   "source": [
    "print(df_top['Год рождения'].mode())\n",
    "print(df_top['Год рождения'].median())"
   ]
  },
  {
   "cell_type": "markdown",
   "id": "7d032d06-2c33-48ce-962a-a5ae5b248a18",
   "metadata": {},
   "source": [
    "Следовательно год рождения \"типичного\" участника - 1984"
   ]
  },
  {
   "cell_type": "markdown",
   "id": "4c702372-f2ba-4ee1-a487-7f4098eaf925",
   "metadata": {},
   "source": [
    "Теперь определим город:"
   ]
  },
  {
   "cell_type": "code",
   "execution_count": 218,
   "id": "1aef2706-27aa-4800-bec0-f4f8fa46c4bf",
   "metadata": {},
   "outputs": [
    {
     "data": {
      "text/plain": [
       "array(['Москва', 'Долгопрудный', 'Cанкт-петербург', 'Таллин',\n",
       "       'Екатеринбург', 'Троицк', 'Клявлино', 'Обнинск',\n",
       "       'Село шеметово (сергиев посад)', 'Железнодорожный',\n",
       "       'Молоково-нальчик', 'Лобня', 'Реутов', 'Подольск', 'Ивантеевка',\n",
       "       'Смоленск', 'Воронеж', 'Липецк', 'Краснознаменск', 'Салехард',\n",
       "       'Мытищи', 'Химки', 'Переделкино', 'Петропавловск-камчатский',\n",
       "       'Пушкино', 'Тверь', 'Люберцы', 'Зеленоград', 'Майкоп', 'Кулебаки',\n",
       "       'Тула', 'Рязань', 'Moscow', 'Дмитров', 'Красногорск', 'Г.владимир',\n",
       "       'Чехов', 'Домодедово', 'Цахкадзор', 'Королёв', 'Старая купавна',\n",
       "       'Село сафарино', 'Водники (долгопрудный)', 'Митино', 'Лыткарино',\n",
       "       'Сергиев посад', 'Торжок', 'Новосибирск', 'Пос. ильинский',\n",
       "       'Королев-кулебаки', 'С. пышлицы', 'Нерехта', 'Апрелевка',\n",
       "       'Тирасполь', 'Трудовая, мо', 'Луховицы', 'Коломна', 'Жуковский',\n",
       "       'Владивосток', 'Кузяево, мо', 'Нижний новгород', 'Krasnogorsk ',\n",
       "       'Балашиха', 'Уфа-москва', 'Ногинск', 'Уфа/москва', 'Минск',\n",
       "       'Тамбов', 'Снежинск', 'Москва, зеленоград', 'Москвп', 'Иркутск',\n",
       "       'Раменское', 'Копенгаген', 'Планета земля',\n",
       "       'П. зеленоградский (пушкино)', 'Шушмор', 'Лабытнанги', 'Томск',\n",
       "       'Дзержинск нижегородской обл.', 'Электросталь'], dtype=object)"
      ]
     },
     "execution_count": 218,
     "metadata": {},
     "output_type": "execute_result"
    }
   ],
   "source": [
    "df_top['Город проживания'].unique()"
   ]
  },
  {
   "cell_type": "code",
   "execution_count": 219,
   "id": "a294c3fa-eccd-47f7-86b8-abff5cdd2e3f",
   "metadata": {},
   "outputs": [
    {
     "data": {
      "text/plain": [
       "Город проживания\n",
       "Москва             678\n",
       "Cанкт-петербург    202\n",
       "Екатеринбург       165\n",
       "Салехард            43\n",
       "Долгопрудный        26\n",
       "                  ... \n",
       "Жуковский            1\n",
       "Коломна              1\n",
       "С. пышлицы           1\n",
       "Тирасполь            1\n",
       "Электросталь         1\n",
       "Name: count, Length: 81, dtype: int64"
      ]
     },
     "execution_count": 219,
     "metadata": {},
     "output_type": "execute_result"
    }
   ],
   "source": [
    "df_top['Город проживания'].value_counts()"
   ]
  },
  {
   "cell_type": "code",
   "execution_count": 220,
   "id": "57948dfd-dae3-41e0-8c01-a6d9dbaadd4c",
   "metadata": {},
   "outputs": [
    {
     "data": {
      "text/plain": [
       "1448"
      ]
     },
     "execution_count": 220,
     "metadata": {},
     "output_type": "execute_result"
    }
   ],
   "source": [
    "df_top['Город проживания'].count()"
   ]
  },
  {
   "cell_type": "markdown",
   "id": "bc92541b-d5a6-45cf-ab4c-d4773c61cf42",
   "metadata": {},
   "source": [
    "Первые 3 года лидеруют с большим отрывом, рассмотрим их:\n",
    "Из Москвы 47%, из Санкт-Петербурга - 14%, из Екатеринбруга - 11,5%. Но так как у нас остались \"плохие\" данные, то есть те, которые неправильно написаны, может возникнуть случай, что они все относятся к каким-то городам, тогда худший случай, когда все они относятся ко 2-му по количеству участников городу - Санкт-Петербургу. В таком случае из него будет 14 + (100 - (47+14+11,5)) = 41,5%. Но даже в таком случае из Москвы будет больше участников. \n",
    "Следовательно: \"типичный\" участник из Москвы."
   ]
  },
  {
   "cell_type": "markdown",
   "id": "88415bc6-64d8-446f-bd12-610a95471161",
   "metadata": {},
   "source": []
  },
  {
   "cell_type": "markdown",
   "id": "840f1cd7-1d1b-4566-8de7-76cbca4d9c5a",
   "metadata": {},
   "source": [
    "Определим пол:"
   ]
  },
  {
   "cell_type": "code",
   "execution_count": 221,
   "id": "dfa975d8-61d3-4215-8ce0-85a264009604",
   "metadata": {},
   "outputs": [
    {
     "data": {
      "text/plain": [
       "Пол\n",
       "М    1217\n",
       "Ж     231\n",
       "Name: count, dtype: int64"
      ]
     },
     "execution_count": 221,
     "metadata": {},
     "output_type": "execute_result"
    }
   ],
   "source": [
    "df_top['Пол'].value_counts()"
   ]
  },
  {
   "cell_type": "code",
   "execution_count": 222,
   "id": "b78312d5-df22-4277-a6b6-c5b3fc2488d5",
   "metadata": {},
   "outputs": [
    {
     "data": {
      "text/plain": [
       "1448"
      ]
     },
     "execution_count": 222,
     "metadata": {},
     "output_type": "execute_result"
    }
   ],
   "source": [
    "df_top['Пол'].count()"
   ]
  },
  {
   "cell_type": "markdown",
   "id": "afe43784-322d-4f6f-a163-3f49909e0afb",
   "metadata": {},
   "source": [
    "Мужчины составляют 84% от всех участников, следовательно \"типичный\" участник - мужчина"
   ]
  },
  {
   "cell_type": "markdown",
   "id": "3de45cbc-8453-44ff-a234-794a6bbcf861",
   "metadata": {},
   "source": [
    "Тогда \"типичный\" участник это - мужчина, 1984 года рождения, из Москвы\n"
   ]
  }
 ],
 "metadata": {
  "kernelspec": {
   "display_name": "Python 3 (ipykernel)",
   "language": "python",
   "name": "python3"
  },
  "language_info": {
   "codemirror_mode": {
    "name": "ipython",
    "version": 3
   },
   "file_extension": ".py",
   "mimetype": "text/x-python",
   "name": "python",
   "nbconvert_exporter": "python",
   "pygments_lexer": "ipython3",
   "version": "3.12.0"
  }
 },
 "nbformat": 4,
 "nbformat_minor": 5
}
